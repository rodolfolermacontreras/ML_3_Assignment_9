{
 "cells": [
  {
   "cell_type": "markdown",
   "metadata": {},
   "source": [
    "## Student: Rodolfo Lerma\n",
    "\n",
    "# Introduction to TD, SARSA, and Q-Learning (Part 1)\n",
    "\n",
    "## Machine Learning 530\n",
    "\n",
    "## Stephen Elston\n",
    "\n",
    "\n",
    "In the previous lesson we explored Monte Carlo **reinforcement learning**. MC RL required that the returns for an entire episode be computed before any values are available for use. The disadvantage of this approach is the the full set of returns are required for state value or action value estimates. But, how can we get state values or action-values in fewer time steps? It turns out there are algorithms which compute estimates in as few as one step. In this lesson will focus on i) a state-value estimation algorithm known as **time difference learning**, ii) **TD-learning** and control algorithm known as **SARSA** and an **off-policy** algorithm known as **Q-Learning**. \n",
    "\n",
    "Recall that reinforcement learning has several distinctive characteristics, which differentiate this method from other machine learning and dynamic programming:\n",
    "- **No Markov model** needs to be specified for reinforcement learning, in contrast to dynamic programming.\n",
    "- Like dynamic programming, reinforcement learning **optimizes a reward function**. This is in contrast to supervised and unsupervised learning which use an error or objective function.  \n",
    "- Reinforcement learning algorithms learn by **experience**. Over time, the algorithm learns a model of the environment and these results are used to optimize the expected reward. Learning from experience is in contrast to supervised learning which uses known marked cases. \n",
    "- Reinforcement learning agents take **actions** and only receive **state** and **rewards** from the environment. These are the only interaction between the RL agent and the environment.    \n",
    "\n",
    "The interaction between a reinforcement learning agent and the environment are illustrated in the figure below. Notice that the only feedback the agent receives from the environment is reward and state.   \n",
    "\n",
    "<img src=\"img/RL_AgentModel.JPG\" alt=\"Drawing\" style=\"width:500px; height:300px\"/>\n",
    "<center> **Reinforcement Learning Agent and Environment** </center>  \n",
    "\n",
    "The ability to learn from experience is an attractive concept. This method of learning seems to mimic human learning. However, reinforcement learning has proven difficult to use in real-world applications. For a review of successes and problems arising when applying RL to robotics see [Kobler et. al.](https://www.ias.informatik.tu-darmstadt.de/uploads/Publications/Kober_IJRR_2013.pdf). At the present time, RL has mostly succeeded in cases where simulations can be used to gain experience. \n",
    "\n",
    "**Suggested readings** for TD and Q reinforcement learning, Chapters 6 and 7 of Sutton and Barto, second edition, provides a good introductions, including many alternative algorithms and details not discussed here.   "
   ]
  },
  {
   "cell_type": "markdown",
   "metadata": {},
   "source": [
    "## TD Prediction Model\n",
    "\n",
    "In a previous lesson we examined a general update model:\n",
    "\n",
    "$$NewValue = OldValue + LearningRate * ErrorTerm$$\n",
    "\n",
    "Following this general formulation the update for TD state value can be written as:\n",
    "\n",
    "$$V_{t+1}(S_{t}) = V_t(S_t) + \\alpha \\big[ G_t - V_t(S_t) \\big]$$\n",
    "\n",
    "Here,   \n",
    "$\\alpha = $ the learning rate,      \n",
    "$\\big[ G_t - V_t(S_t) \\big] = $ the TD error term is the difference between the return $G_t$ and the value, $V(S_t)$. The return is identical to the state value at convergence, making the error 0.   \n",
    "\n",
    "   \n",
    "Using the same general formulation we can create and single time step update model know as the **one step time difference** or **TD(0)** algorithm.\n",
    "\n",
    "$$V_{t+1}(S_{t}) = V_t(S_t) + \\alpha \\big[ R_{t+1} + V_{t+1}(S_{t+1}) - V_t(S_t) \\big]$$\n",
    "\n",
    "Where,  \n",
    "$\\delta_t =  R_{t+1} + V_{t+1}(S_{t+1}) - V_t(S_t) = $ the one-step **TD error**,  \n",
    "$R_{t+1} = $ the return for the next time step,   \n",
    "$V_t(S_t) = $ is the state-value at time step t,   \n",
    "$V_{t+1}(S_{t+1}) = $ the bootstrap state-value for the successor state, $S_{t+1}$.\n",
    "\n",
    "Like dynamic programming algorithms, the TD algorithm **bootstraps**. The return and estimated value at the next time step, $V_{t+1}(S_{t+1})$, are from previous samples. However, unlike MC RL which does not bootstrap, the TD(0) algorithm produces an estimate of $V_{t+1}(S_t)$ in only one time step, rather than waiting to reach the terminal state at the end of the episode. This fact can be seen by examining the backup diagram shown below:\n",
    "\n",
    "<img src=\"img/TD0.JPG\" alt=\"Drawing\" style=\"width:60px; height:150px\"/>\n",
    "<center> **Backup Diagram of TD(0)** </center>"
   ]
  },
  {
   "cell_type": "markdown",
   "metadata": {},
   "source": [
    "## Example of Time Difference RL\n",
    "\n",
    "With this short introduction TD RL in mind, let's try an example. We will sample the value function using a basic TD(0) algorithm here. \n",
    "\n",
    "As discussed in other labs, **Navigation** to a goal is a significant problem in robotics. Real-world navigation is rather complex. Therefore, in this example we will use a simple analog called a **grid world**. The grid world for this problem is shown below. \n",
    "\n",
    "<img src=\"img/GridWorld.JPG\" alt=\"Drawing\" style=\"width:200px; height:200px\"/>\n",
    "<center> **A 4x4 Grid World with Terminal State** </center>\n",
    "\n",
    "The grid world consists of a 4x4 set of positions the robot can occupy. Each position is considered a state. The goal is to navigate to state 0, the goal, in the minimum steps. We will explore methods to find policies which reach this goal and achieve maximum reward. \n",
    "\n",
    "Grid position 0 is the goal and a **terminal state**. There are no possible state transitions out of this position. The presence of a terminal state makes this an **episodic Markov random process**. For each episode sampled the robot can start in any other random position, $\\{ 1,2,3,4,5,6,7,8,9,10,11,12,13,14,15 \\}$. This random selection process makes this a **random start** TD algorithm. The episode terminates when the robot enters the terminal position (state 0).  \n",
    "\n",
    "In reality, an RL agent may need to explore to find the possible actions when it is in some particular state. To simplify our example, we encode, or represent, these possibilities in a dictionary as shown in the code block below. We use a dictionary of dictionaries to perform the lookup. The keys of the outer dictionary are the identifiers (numbers) of the states. The keys of the inner dictionary are the possible actions and the values are the **successor state**, $s'$, for that transition.  \n",
    "\n",
    "In each state, there are four possible actions the robot can take:\n",
    "- up, u\n",
    "- down, d,\n",
    "- left, l\n",
    "- right, r\n",
    "\n",
    "The TD RL agent has no model for the environment. Therefore, beyond these allowed actions, all other information is encapsulated in the environment and is unobservable by the agent. This is the key difference between reinforcement learning and dynamic programming. "
   ]
  },
  {
   "cell_type": "code",
   "execution_count": 1,
   "metadata": {},
   "outputs": [],
   "source": [
    "## import numpy for latter\n",
    "import numpy as np\n",
    "import numpy.random as nr\n",
    "import pandas as pd\n",
    "\n",
    "## Define the transition dictonary of dictionaries:\n",
    "neighbors = {0:{'u':0, 'd':0, 'l':0, 'r':0},\n",
    "          1:{'u':1, 'd':5, 'l':0, 'r':2},\n",
    "          2:{'u':2, 'd':6, 'l':1, 'r':3},\n",
    "          3:{'u':3, 'd':7, 'l':2, 'r':3},\n",
    "          4:{'u':0, 'd':8, 'l':4, 'r':5},\n",
    "          5:{'u':1, 'd':9, 'l':4, 'r':6},\n",
    "          6:{'u':2, 'd':10, 'l':5, 'r':7},\n",
    "          7:{'u':3, 'd':11, 'l':6, 'r':7},\n",
    "          8:{'u':4, 'd':12, 'l':8, 'r':9},\n",
    "          9:{'u':5, 'd':13, 'l':8, 'r':10},\n",
    "          10:{'u':6, 'd':14, 'l':9, 'r':11},\n",
    "          11:{'u':7, 'd':15, 'l':10, 'r':11},\n",
    "          12:{'u':8, 'd':12, 'l':12, 'r':13},\n",
    "          13:{'u':9, 'd':13, 'l':12, 'r':14},\n",
    "          14:{'u':10, 'd':14, 'l':13, 'r':15},\n",
    "          15:{'u':11, 'd':15, 'l':14, 'r':15}}"
   ]
  },
  {
   "cell_type": "markdown",
   "metadata": {},
   "source": [
    "To simulate the environment, we need a reward structure. In this case, the robot receives the following rewards:   \n",
    "\n",
    "- 10 for entering position 0. \n",
    "- -1 for attempting to leave the grid. In other words, we penalize the robot for hitting the edges of the grid.  \n",
    "- -0.1 for all other state transitions, which is the cost for the robot to move from one state to another. If we did not have this penalty, the robot could follow any random plan to the goal which did not hit the edges. \n",
    "\n",
    "This **reward structure is unknown to the TD RL agent**. The agent must **learn** the rewards by sampling the environment. Here the rewards are in the form of action values.    \n",
    "\n",
    "We encode these rewards in the same type of dictionary structure used for the foregoing structures. "
   ]
  },
  {
   "cell_type": "code",
   "execution_count": 2,
   "metadata": {},
   "outputs": [],
   "source": [
    "rewards = {0:{'u':10.0, 'd':10.0, 'l':10.0, 'r':10.0},\n",
    "          1:{'u':-1, 'd':-0.1, 'l':10.0, 'r':-0.1},\n",
    "          2:{'u':-1.0, 'd':-0.1, 'l':-0.1, 'r':-0.1},\n",
    "          3:{'u':-1.0, 'd':-0.1, 'l':-0.1, 'r':-1.0},\n",
    "          4:{'u':10.0, 'd':-0.1, 'l':-1.0, 'r':-0.1},\n",
    "          5:{'u':-0.1, 'd':-0.1, 'l':-0.1, 'r':-0.1},\n",
    "          6:{'u':-0.1, 'd':-0.1, 'l':-0.1, 'r':-0.1},\n",
    "          7:{'u':-0.1, 'd':-0.1, 'l':-0.1, 'r':-1.0},\n",
    "          8:{'u':-0.1, 'd':-0.1, 'l':-1.0, 'r':-0.1},\n",
    "          9:{'u':-0.1, 'd':-0.1, 'l':-0.1, 'r':-0.1},\n",
    "          10:{'u':-0.1, 'd':-0.1, 'l':-0.1, 'r':-0.1},\n",
    "          11:{'u':-0.1, 'd':-0.1, 'l':-0.1, 'r':-1.0},\n",
    "          12:{'u':-0.1, 'd':-1.0, 'l':-1.0, 'r':-0.1},\n",
    "          13:{'u':-0.1, 'd':-1.0, 'l':-0.1, 'r':-0.1},\n",
    "          14:{'u':-0.1, 'd':-1.0, 'l':-0.1, 'r':-0.1},\n",
    "          15:{'u':-0.1, 'd':-1.0, 'l':-0.1, 'r':-1.0}}"
   ]
  },
  {
   "cell_type": "markdown",
   "metadata": {},
   "source": [
    "As was done previously, we will use an environment simulator. The function is called with a state and action. It returns the next state, 's_prime' and 'reward'. \n",
    "\n",
    "To simplify the rest of the code in this notebook we are treating the dictionaries as global. In general, this would be considered poor programming practice. \n",
    "\n",
    "Execute the code in the cell below and observe the results from the test cases. "
   ]
  },
  {
   "cell_type": "code",
   "execution_count": 3,
   "metadata": {},
   "outputs": [],
   "source": [
    "def simulate_environment(s, action, neighbors = neighbors, rewards = rewards, terminal = 0):\n",
    "    \"\"\"\n",
    "    Function simulates the environment\n",
    "    returns s_prime and reward given s and action\n",
    "    \"\"\"\n",
    "    s_prime = neighbors[s][action]\n",
    "    reward = rewards[s][action]\n",
    "    return (s_prime, reward, is_terminal(s_prime, terminal))\n",
    "\n",
    "def is_terminal(state, terminal = 0):\n",
    "    return state == terminal"
   ]
  },
  {
   "cell_type": "code",
   "execution_count": 4,
   "metadata": {},
   "outputs": [
    {
     "name": "stdout",
     "output_type": "stream",
     "text": [
      "(1, -1, False)\n",
      "(5, -0.1, False)\n",
      "(2, -0.1, False)\n",
      "(0, 10.0, True)\n"
     ]
    }
   ],
   "source": [
    "## Test the function\n",
    "for a in ['u', 'd', 'r', 'l']:\n",
    "    print(simulate_environment(1, a))"
   ]
  },
  {
   "cell_type": "markdown",
   "metadata": {},
   "source": [
    "### TD(0) Policy Evaluation\n",
    "\n",
    "We have everything in place to perform TD(0) policy evaluation for the grid world. The code in the cell below implements the TD(0) algorithm and applies it to the policy in the grid world. Notice that the algorithm makes calls to the aforementioned `state_values` function to find information on successor state and rewards for a transition given a current state and action. Execute this code and examine the results. "
   ]
  },
  {
   "cell_type": "code",
   "execution_count": 5,
   "metadata": {},
   "outputs": [],
   "source": [
    "initial_policy = {0:{'u':0.25, 'd':0.25, 'l':0.25, 'r':0.25},\n",
    "                        1:{'u':0.25, 'd':0.25, 'l':0.25, 'r':0.25}, \n",
    "                        2:{'u':0.25, 'd':0.25, 'l':0.25, 'r':0.25},\n",
    "                        3:{'u':0.25, 'd':0.25, 'l':0.25, 'r':0.25},\n",
    "                        4:{'u':0.25, 'd':0.25, 'l':0.25, 'r':0.25},\n",
    "                        5:{'u':0.25, 'd':0.25, 'l':0.25, 'r':0.25},\n",
    "                        6:{'u':0.25, 'd':0.25, 'l':0.25, 'r':0.25},\n",
    "                        7:{'u':0.25, 'd':0.25, 'l':0.25, 'r':0.25},\n",
    "                        8:{'u':0.25, 'd':0.25, 'l':0.25, 'r':0.25},\n",
    "                        9:{'u':0.25, 'd':0.25, 'l':0.25, 'r':0.25},\n",
    "                        10:{'u':0.25, 'd':0.25, 'l':0.25, 'r':0.25},\n",
    "                        11:{'u':0.25, 'd':0.25, 'l':0.25, 'r':0.25},\n",
    "                        12:{'u':0.25, 'd':0.25, 'l':0.25, 'r':0.25},\n",
    "                        13:{'u':0.25, 'd':0.25, 'l':0.25, 'r':0.25},\n",
    "                        14:{'u':0.25, 'd':0.25, 'l':0.25, 'r':0.25},\n",
    "                        15:{'u':0.25, 'd':0.25, 'l':0.25, 'r':0.25}}"
   ]
  },
  {
   "cell_type": "markdown",
   "metadata": {},
   "source": [
    "The code in the cell below performs a random start for the beginning of an episode. The random start cannot be in the terminal state. "
   ]
  },
  {
   "cell_type": "code",
   "execution_count": 6,
   "metadata": {},
   "outputs": [],
   "source": [
    "def start_episode(n_states):\n",
    "    '''Function to find a random starting value for the episode\n",
    "    that is not the terminal state'''\n",
    "    state = nr.choice(range(n_states))\n",
    "    while(is_terminal(state)):\n",
    "         state = nr.choice(range(n_states))\n",
    "    return state"
   ]
  },
  {
   "cell_type": "code",
   "execution_count": 7,
   "metadata": {},
   "outputs": [
    {
     "data": {
      "text/plain": [
       "[12, 3, 12, 12, 11, 11, 5, 11, 9, 14]"
      ]
     },
     "execution_count": 7,
     "metadata": {},
     "output_type": "execute_result"
    }
   ],
   "source": [
    "## test the function to make sure never starting in terminal state\n",
    "[start_episode(15) for _ in range(10)]"
   ]
  },
  {
   "cell_type": "markdown",
   "metadata": {},
   "source": [
    "The function in the cell below finds and action given the state. The probability of the action is determined by the policy. Given the action the next state, reward and a terminal flag are found.     "
   ]
  },
  {
   "cell_type": "code",
   "execution_count": 8,
   "metadata": {},
   "outputs": [],
   "source": [
    "def take_action(state, policy, actions = {1:'u', 2:'d', 3:'l', 4:'r'}):\n",
    "    '''Function takes action given state using the transition probabilities \n",
    "    of the policy'''\n",
    "    ## Find the action given the transistion probabilities defined by the policy.\n",
    "    action = actions[nr.choice(range(len(actions)), p = list(policy[state].values())) + 1]\n",
    "    s_prime, reward, terminal = simulate_environment(state, action)\n",
    "    return (action, s_prime, reward, terminal)"
   ]
  },
  {
   "cell_type": "code",
   "execution_count": 9,
   "metadata": {},
   "outputs": [
    {
     "name": "stdout",
     "output_type": "stream",
     "text": [
      "('u', 0, 10.0, True)\n",
      "('u', 1, -1, False)\n",
      "('u', 2, -1.0, False)\n",
      "('d', 7, -0.1, False)\n",
      "('r', 5, -0.1, False)\n",
      "('l', 4, -0.1, False)\n",
      "('l', 5, -0.1, False)\n",
      "('r', 7, -1.0, False)\n",
      "('u', 4, -0.1, False)\n",
      "('r', 10, -0.1, False)\n",
      "('u', 6, -0.1, False)\n",
      "('d', 15, -0.1, False)\n",
      "('r', 13, -0.1, False)\n",
      "('l', 12, -0.1, False)\n",
      "('l', 13, -0.1, False)\n",
      "('d', 15, -1.0, False)\n"
     ]
    }
   ],
   "source": [
    "## Test function for several states\n",
    "for s in range(16):\n",
    "    print(take_action(s, initial_policy))"
   ]
  },
  {
   "cell_type": "markdown",
   "metadata": {},
   "source": [
    "> **Exercise 9-1-1:** The function in the cell below computes the **state-values** using the one-step TD(0) algorithm. The loop in the function iterates over the samples to update the state-values. You can see additional details by reading the code comments. Now, do the following:   \n",
    "> 1. Complete the missing line of code which computes the TD(0) error and execute your code.  \n",
    "> 2. As a basic test of the state value estimation function, examine the results. Do these state values have a reasonable relationship to the goal and each other and why?  "
   ]
  },
  {
   "cell_type": "code",
   "execution_count": 10,
   "metadata": {},
   "outputs": [],
   "source": [
    "def td_0_state_values(policy, n_samps, alpha = 0.05, gamma = 1.0):\n",
    "    \"\"\"\n",
    "    Function for TD(0) policy evalutation\n",
    "    \"\"\"\n",
    "    ## Find the starting state\n",
    "    n_states = len(policy)\n",
    "    current_state = start_episode(n_states)\n",
    "    terminal = False\n",
    "    #2.\n",
    "    ## Array for state values\n",
    "    v = np.zeros((n_states,1))\n",
    "    \n",
    "    for _ in range(n_samps):\n",
    "        ## Find the next action and reward\n",
    "        action, s_prime, reward, terminal = take_action(current_state, policy)\n",
    "        \n",
    "        ######### Complete the code below ##############\n",
    "        ## Compute the TD(0) error\n",
    "        delta = reward + gamma*v[s_prime] - v[current_state]\n",
    "\n",
    "        ## Update the state value\n",
    "        v[current_state] = v[current_state] + alpha*delta\n",
    "        current_state = s_prime\n",
    "        if(terminal): ## start new episode when terminal\n",
    "            current_state = start_episode(n_states)\n",
    "    return(v)"
   ]
  },
  {
   "cell_type": "code",
   "execution_count": 11,
   "metadata": {},
   "outputs": [
    {
     "name": "stdout",
     "output_type": "stream",
     "text": [
      "-45.68360241795456\n",
      "[[ 0.          2.82876857 -2.0426682  -4.01138461]\n",
      " [ 2.29808625 -0.25083611 -3.39400821 -4.54063742]\n",
      " [-1.5494543  -3.02119685 -4.33488168 -5.586259  ]\n",
      " [-4.80684668 -4.84533328 -5.63516189 -6.79178901]]\n"
     ]
    }
   ],
   "source": [
    "state_values = td_0_state_values(initial_policy, 20000).reshape((4,4))        \n",
    "print(np.sum(state_values))\n",
    "print(state_values)"
   ]
  },
  {
   "cell_type": "markdown",
   "metadata": {},
   "source": [
    "**Answer:**    "
   ]
  },
  {
   "cell_type": "markdown",
   "metadata": {},
   "source": [
    "## One Step SARSA Algorithm\n",
    "\n",
    "Now that we have examined the one step TD(0) algorithm for policy (value) evaluation, we need to define a one step algorithm for **control** or **policy improvement**.     \n",
    "\n",
    "The **state action reward state action** or **SARSA** algorithm is an **on policy** method which uses time differencing to evaluate action values. As you might imagine from the name, this algorithm starts with an **on policy** action from the current state which results in a state transition and a reward. The backup diagram for one step SARSA (SARSA(0)) is shown in the figure below. \n",
    "\n",
    "<img src=\"img/SARSA.JPG\" alt=\"Drawing\" style=\"width:75px; height:150px\"/>\n",
    "<center> **Backup Diagram for SARSA(0)** </center>\n",
    "\n",
    "Compare the backup diagram for SARSA(0) to the one for TD(0) notice that the order of state and action are reversed between the two algorithms. This realization is a good way to understand the difference. \n",
    "\n",
    "The update equation for SARSA(0) is as follows:\n",
    "\n",
    "$$Q_{t+1}(S_{t},A_{t}) = Q_{t}(S_t,A_t) + \\alpha \\big[ R_{t+1} + \\gamma Q_{t}(S_{t+1},A_{t+1}) - Q_t(S_t,A_t) \\big]$$  \n",
    "\n",
    "Where,   \n",
    "$Q_t(S_t,A_t) = $ is the action value in state S given action A at step t,   \n",
    "$R_{t+1} = $ is the reward for the next time step,    \n",
    "$\\delta_t = R_{t+1} + \\gamma Q_{t}(S_{t+1},A_{t+1}) - Q_t(S_t,A_t) = $ TD error,   \n",
    "$Q_{t}(S_{t+1},A_{t+1}) = $ action-value of successor action, $A_{t+1}'$, from the successor state, $S_{t+1}$,   \n",
    "$\\alpha = $ the learning rate,   \n",
    "$\\gamma = $ discount factor.  "
   ]
  },
  {
   "cell_type": "markdown",
   "metadata": {},
   "source": [
    "> **Exercise 9-1-2:** The code in the cell below implements the SARSA(0) action value algorithm. Complete the code inn the cell below to compute the update of the action value using the above formula. Action values are in the numpy array `q`, indexed by state and action. Then execute your code.     "
   ]
  },
  {
   "cell_type": "code",
   "execution_count": 12,
   "metadata": {
    "scrolled": false
   },
   "outputs": [],
   "source": [
    "def print_Q(Q):\n",
    "    Q = pd.DataFrame(Q, columns = ['up', 'down', 'left', 'right'])\n",
    "    print(Q)\n",
    "\n",
    "def new_episode(n_states, policy):\n",
    "    '''This function provides a start for a TD\n",
    "    episode making sure the first transition is not \n",
    "    the termnal state'''\n",
    "    current_state = start_episode(n_states)\n",
    "    ## Find fist action and reward\n",
    "    action, s_prime, reward, terminal = take_action(current_state, policy)\n",
    "    return(current_state, action, s_prime, reward, terminal)    \n",
    "\n",
    "def SARSA_0(policy, n_samps, alpha = 0.02, gamma = 1.0, action_index = {'u':0, 'd':1, 'l':2, 'r':3}):\n",
    "    \"\"\"\n",
    "    Function for TD(0) policy evalutation\n",
    "    \"\"\"\n",
    "    ## Find the starting state\n",
    "    n_states = len(policy)\n",
    "    current_state, action, s_prime, reward, terminal = new_episode(n_states, policy)\n",
    "    action_idx = action_index[action]\n",
    "    \n",
    "    ## Array for state values\n",
    "    q = np.zeros((n_states, len(policy[0])))\n",
    "    \n",
    "    for _ in range(n_samps):\n",
    "        ## Find the next action and reward\n",
    "        action_prime, s_prime_prime, reward_prime, terminal_prime = take_action(s_prime, policy)\n",
    "        action_idx_prime = action_index[action_prime]\n",
    "        \n",
    "        ######### Complete the code below ##############\n",
    "        ## Compute the TD error given the action values `q`, the successor state, successor action, \n",
    "        ## current state, and current action\n",
    "        delta = reward + gamma*q[s_prime, action_idx_prime] - q[current_state, action_idx]\n",
    "        \n",
    "        ## Update the action values\n",
    "        q[current_state, action_idx] = q[current_state, action_idx] + alpha*delta\n",
    "        ## Update the state, action and reward for the next time step\n",
    "        current_state = s_prime\n",
    "        s_prime = s_prime_prime\n",
    "        action = action_prime\n",
    "        reward = reward_prime\n",
    "        terminal = terminal_prime\n",
    "        action_idx = action_idx_prime\n",
    "\n",
    "        ## Check if end of episode\n",
    "        if(terminal): \n",
    "            ## start new episode\n",
    "            current_state, action, s_prime, reward, terminal = new_episode(n_states, policy)        \n",
    "    return(q)"
   ]
  },
  {
   "cell_type": "code",
   "execution_count": 13,
   "metadata": {},
   "outputs": [
    {
     "name": "stdout",
     "output_type": "stream",
     "text": [
      "           up       down       left      right\n",
      "0    0.000000   0.000000   0.000000   0.000000\n",
      "1   -6.822695  -6.467708  -0.757129  -8.431942\n",
      "2  -10.192453  -9.084555  -6.037880 -10.172655\n",
      "3  -10.719520 -10.698950  -8.428358 -10.894616\n",
      "4   -3.286970  -8.701012  -8.542118  -8.315470\n",
      "5   -5.111483  -9.042715  -5.377265  -9.048574\n",
      "6   -8.407069  -9.863523  -7.233422 -10.194876\n",
      "7  -10.095068 -10.795101  -9.163718 -11.256690\n",
      "8   -7.309718 -10.207635 -10.231633  -9.070963\n",
      "9   -6.552603  -9.876381  -9.004126  -9.992547\n",
      "10  -9.578876 -10.572930  -8.758318 -10.683033\n",
      "11 -10.222720 -11.740131 -10.308086 -11.709990\n",
      "12  -9.309558 -10.807915 -10.916760 -10.354697\n",
      "13  -9.151187 -10.949510 -10.115305 -10.951348\n",
      "14  -9.657891 -10.871299  -9.950268 -11.716085\n",
      "15 -10.871633 -12.737202 -10.289429 -11.639088\n"
     ]
    }
   ],
   "source": [
    "Q = SARSA_0(initial_policy, 20000, alpha = 0.2, gamma = 0.99)\n",
    "print_Q(Q)"
   ]
  },
  {
   "cell_type": "markdown",
   "metadata": {},
   "source": [
    "The array printed above display the action values for each state. \n",
    "\n",
    "The function below takes the action values and finds an improved policy. Execute this code and examine the results. "
   ]
  },
  {
   "cell_type": "code",
   "execution_count": 14,
   "metadata": {},
   "outputs": [],
   "source": [
    "def action_lookup(index):\n",
    "    \"\"\"Helper function returns action given an index\"\"\"\n",
    "    action_dic = {0:'u', 1:'d', 2:'l', 3:'r'}\n",
    "    return action_dic[index]\n",
    "\n",
    "def index_lookup(action):\n",
    "    \"\"\"Helper function returns index given action\"\"\"\n",
    "    index_dic = {'u':0, 'd':1, 'l':2, 'r':3}\n",
    "    return index_dic[action]\n",
    "\n",
    "def update_policy(policy, Q, epsilon):\n",
    "    '''Updates the policy based on estiamtes of Q using \n",
    "    an epslion greedy algorithm. The action with the highest\n",
    "    action value is used.'''\n",
    "    \n",
    "    ## Find the keys for the actions in the policy\n",
    "    keys = list(policy[0].keys())\n",
    "    \n",
    "    ## Iterate over the states and find the maximm action value.\n",
    "    for state in range(len(policy)):\n",
    "        ## First find the index of the max Q values  \n",
    "        q = Q[state,:]\n",
    "        max_action_index = np.where(q == max(q))[0]\n",
    "\n",
    "        ## Find the probabilities for the transitions\n",
    "        n_transitions = float(len(q))\n",
    "        n_max_transitions = float(len(max_action_index))\n",
    "        p_max_transitions = (1.0 - epsilon *(n_transitions - n_max_transitions))/(n_max_transitions)\n",
    "  \n",
    "        ## Now assign the probabilities to the policy as epsilon greedy.\n",
    "        for key in keys:\n",
    "            if(index_lookup(key) in max_action_index): policy[state][key] = p_max_transitions\n",
    "            else: policy[state][key] = epsilon\n",
    "    return(policy)                "
   ]
  },
  {
   "cell_type": "code",
   "execution_count": 15,
   "metadata": {},
   "outputs": [
    {
     "data": {
      "text/plain": [
       "{0: {'u': 0.25, 'd': 0.25, 'l': 0.25, 'r': 0.25},\n",
       " 1: {'u': 0.01, 'd': 0.01, 'l': 0.97, 'r': 0.01},\n",
       " 2: {'u': 0.01, 'd': 0.01, 'l': 0.97, 'r': 0.01},\n",
       " 3: {'u': 0.01, 'd': 0.01, 'l': 0.97, 'r': 0.01},\n",
       " 4: {'u': 0.97, 'd': 0.01, 'l': 0.01, 'r': 0.01},\n",
       " 5: {'u': 0.97, 'd': 0.01, 'l': 0.01, 'r': 0.01},\n",
       " 6: {'u': 0.01, 'd': 0.01, 'l': 0.97, 'r': 0.01},\n",
       " 7: {'u': 0.01, 'd': 0.01, 'l': 0.97, 'r': 0.01},\n",
       " 8: {'u': 0.97, 'd': 0.01, 'l': 0.01, 'r': 0.01},\n",
       " 9: {'u': 0.97, 'd': 0.01, 'l': 0.01, 'r': 0.01},\n",
       " 10: {'u': 0.01, 'd': 0.01, 'l': 0.97, 'r': 0.01},\n",
       " 11: {'u': 0.97, 'd': 0.01, 'l': 0.01, 'r': 0.01},\n",
       " 12: {'u': 0.97, 'd': 0.01, 'l': 0.01, 'r': 0.01},\n",
       " 13: {'u': 0.97, 'd': 0.01, 'l': 0.01, 'r': 0.01},\n",
       " 14: {'u': 0.97, 'd': 0.01, 'l': 0.01, 'r': 0.01},\n",
       " 15: {'u': 0.01, 'd': 0.01, 'l': 0.97, 'r': 0.01}}"
      ]
     },
     "execution_count": 15,
     "metadata": {},
     "output_type": "execute_result"
    }
   ],
   "source": [
    "Q_policy = update_policy(initial_policy, Q, 0.01)    \n",
    "Q_policy"
   ]
  },
  {
   "cell_type": "markdown",
   "metadata": {},
   "source": [
    "> **Exercise 9-1-3:** The question is now, how much of an improvement does this policy represent? To find out, do the following:   \n",
    "> 1. In the cell bellow create and execute the code to compute the state values for the improved policy. Print the sum of the state values along with the state value array.      \n",
    "> 2. Examine the state values. Do these state values represent an improvement over the initial policy and why?   "
   ]
  },
  {
   "cell_type": "code",
   "execution_count": 16,
   "metadata": {},
   "outputs": [
    {
     "name": "stdout",
     "output_type": "stream",
     "text": [
      "146.28672955426035\n",
      "[[0.         9.99504039 9.88321164 9.76946002]\n",
      " [9.97293569 9.88525491 9.77386703 9.67660923]\n",
      " [9.88147766 9.77649928 9.67095329 9.57413522]\n",
      " [9.73769468 9.67296294 9.5580913  9.45853625]]\n"
     ]
    }
   ],
   "source": [
    "state_values = td_0_state_values(Q_policy, 20000).reshape((4,4))     \n",
    "print(np.sum(state_values))\n",
    "print(state_values)  "
   ]
  },
  {
   "cell_type": "markdown",
   "metadata": {},
   "source": [
    "> **Answer:**    "
   ]
  },
  {
   "cell_type": "markdown",
   "metadata": {},
   "source": [
    "## On Policy vs. Off Policy Algorithms\n",
    "\n",
    "In this lesson we will explore examples of two broad categories of RL algorithms known as **on policy** and **off policy** methods. \n",
    "\n",
    "On policy methods evaluate and improve a single policy. On policy methods converge quickly and often to good solution. In general, **exploration** is performed using $\\epsilon$-greedy methods. The TD(0) and MC algorithms we have examined are examples of on policy methods. On policy algorithms are known to have good convergence properties. \n",
    "\n",
    "In contrast, off policy methods use two policies. The policy the agent is following is called the **behavior policy**, denoted $b(A_t | S_t)$. The policy being improved is known as the **target policy**, denoted $\\pi (A_t | S_t)$. The agent obtains samples of the environment while following the behavior policy. These samples are used to improve the target policy. An advantage of off policy methods is that a deterministic behavior policy can be used while a better target policy is developed. "
   ]
  },
  {
   "cell_type": "markdown",
   "metadata": {},
   "source": [
    "## Q-Learning\n",
    "\n",
    "As we have just seen, the SARSA algorithm is an on policy action value TD estimation method. The **Q-learning** algorithm is a **off policy** TD action value estimation method. \n",
    "\n",
    "The update formula for single step Q-learning or **Q-learning(0)** is:\n",
    "\n",
    "$$Q(S_t,A_t) = Q(S_t,A_t) + \\alpha \\big[ R_{t+1} + \\gamma\\ max_a Q(S_{t+1},a) - Q(S_t,A_t) \\big]$$  \n",
    "\n",
    "Where,   \n",
    "$\\delta_t = R_{t+1} + \\gamma max_a Q(S_{t+1},a) - Q(S_t,A_t) = $ the TD error,   \n",
    "$max_a = $ the maximum operator applied to all possible actions in state $S_{t+1}$,   \n",
    "$Q(S_t,A_t) = $ is the action value in state S given action A,  \n",
    "$R_{t+1} = $ is the reward for the next time step,   \n",
    "$\\alpha = $ the learning rate,   \n",
    "$\\gamma = $ discount factor.  \n",
    "\n",
    "The use of the operator $max_a$ makes Q-learning greedy. But, why does using this operator result in an off-policy algorithm? To answer this question, examine the backup diagram shown below. \n",
    "\n",
    "<img src=\"img/Q-Learning.JPG\" alt=\"Drawing\" style=\"width:200px; height:150px\"/>\n",
    "<center> **Backup Diagram for one-step Q-Learning** </center>\n",
    "\n",
    "The $max_a$ greedily picks the action with the greatest value, regardless of policy. Therefore, Q-learning is an off-policy algorithm. "
   ]
  },
  {
   "cell_type": "markdown",
   "metadata": {},
   "source": [
    "### Q-Learning Example\n",
    "\n",
    "> **Exercise 9-1-3:** The code in the cell below implements the one step Q-learning(0) algorithm. The code is similar to the SARSA(0) code shown previously. The main difference is the addition of the $max_a$ operation when computing the TD error, $\\delta_t$.  Additional details on this algorithm can be seen by reading the code comments.   \n",
    " > Complete the line of code in the `update_Q` function below to compute the new action value using the single step bootstrap relationship from the formula shown above Execute your code for the random walk policy on the grid world and examine the results. \n",
    " "
   ]
  },
  {
   "cell_type": "code",
   "execution_count": 17,
   "metadata": {},
   "outputs": [],
   "source": [
    "def simulate_environment_Q(s, action, neighbors = neighbors, rewards = rewards, terminal = 0):\n",
    "    \"\"\"\n",
    "    Function simulates the environment for Q-learning.\n",
    "    returns s_prime and reward given s and action\n",
    "    \"\"\"\n",
    "    s_prime = neighbors[s][action]\n",
    "    reward_prime = np.array([rewards[s_prime][a] for a in rewards[0].keys()])\n",
    "    return (s_prime, reward_prime, is_terminal(s_prime, terminal))\n",
    "\n",
    "def start_Q_episode(n_states, n_actions):\n",
    "    '''Function to find a random starting values for the episode\n",
    "    that is not the terminal state'''\n",
    "    state = nr.choice(range(n_states))\n",
    "    while(is_terminal(state)):  ## Make sure not starting at the terminal state\n",
    "         state = nr.choice(range(n_states))\n",
    "    ## Now find a random starting action index\n",
    "    a_index = nr.choice(range(4), size = 1)[0]\n",
    "    s_prime, reward, terminal = simulate_environment_Q(state, action_lookup(a_index))   \n",
    "    return state, a_index, reward[a_index] ## action_lookup(a_index), reward[a_index]\n",
    "\n",
    "def update_Q(Q, current_state, a_index, reward, alpha, gamma):\n",
    "    \"\"\"Function to update the actions values in the Q matrix\"\"\"\n",
    "    ## Get s_prime given s and a\n",
    "    s_prime, reward_prime, terminal = simulate_environment_Q(current_state, action_lookup(a_index))\n",
    "    a_prime_index = nr.choice(np.where(reward_prime == max(reward_prime))[0], size = 1)[0]\n",
    "    \n",
    "    ######### Complete the code below ######################################\n",
    "    ## Update the action values using the current state and action and the successor state and action (index) \n",
    "    ## for the maximum acton value\n",
    "    Q[current_state,a_index] = Q[current_state,a_index] + alpha * (reward + gamma * (Q[s_prime,a_prime_index] - Q[current_state,a_index]))\n",
    "     \n",
    "    return Q, s_prime, reward_prime, terminal, a_prime_index\n",
    "\n",
    "def Q_learning_0(policy, episodes, alpha = 0.02, gamma = 0.9):\n",
    "    \"\"\"\n",
    "    Function to perform Q-learning(0) control policy improvement.\n",
    "    \"\"\"\n",
    "    ## Initialize the state list and action values\n",
    "    states = list(policy.keys())\n",
    "    n_states = len(states)\n",
    "    n_actions = len(policy[0].keys())\n",
    "    \n",
    "    ## Initialize Q matrix\n",
    "    Q = np.zeros((n_states,n_actions))\n",
    "    \n",
    "    for _ in range(episodes): # Loop over the episodes\n",
    "        terminal = False\n",
    "        ## Find the inital state, action index and reward\n",
    "        current_state, a_index, reward = start_Q_episode(n_states,n_actions)\n",
    "        \n",
    "        while(not terminal): # Episode ends where get to terminal state   \n",
    "            ## Update the action values in Q\n",
    "            Q, s_prime, reward_prime, terminal, a_prime_index = update_Q(Q, current_state, a_index, reward, alpha, gamma)\n",
    "            ## Set action, reward and state for next iteration\n",
    "            a_index = a_prime_index\n",
    "            current_state = s_prime\n",
    "            reward = reward_prime[a_prime_index]\n",
    "    return(Q)"
   ]
  },
  {
   "cell_type": "code",
   "execution_count": 18,
   "metadata": {},
   "outputs": [
    {
     "name": "stdout",
     "output_type": "stream",
     "text": [
      "           up      down       left     right\n",
      "0    0.000000  0.000000   0.000000  0.000000\n",
      "1    9.407101  9.142983  11.111111  9.090393\n",
      "2    8.123884  9.179096  11.980331  9.215989\n",
      "3    7.415791  8.898676   9.860375  7.097238\n",
      "4   11.111111  9.149847   9.330637  8.914911\n",
      "5   10.947337  9.200665  10.918601  9.265195\n",
      "6    9.734547  8.815573   9.916980  8.849526\n",
      "7    9.163089  8.557679   9.205733  6.543396\n",
      "8   12.360603  9.410697   7.808643  9.280682\n",
      "9   10.049673  8.923351  10.134205  8.804200\n",
      "10   9.223955  8.585012   9.295053  8.561332\n",
      "11   8.831601  8.465071   8.821763  6.410499\n",
      "12  10.120447  7.221676   6.543158  9.017127\n",
      "13   9.397367  6.898311   9.409444  8.626869\n",
      "14   8.845020  6.430167   8.931870  8.456763\n",
      "15   8.602936  5.837747   8.622475  6.359622\n"
     ]
    }
   ],
   "source": [
    "Q = Q_learning_0(initial_policy, 10000)\n",
    "print_Q(Q)"
   ]
  },
  {
   "cell_type": "code",
   "execution_count": 19,
   "metadata": {},
   "outputs": [
    {
     "data": {
      "text/plain": [
       "{0: {'u': 0.25, 'd': 0.25, 'l': 0.25, 'r': 0.25},\n",
       " 1: {'u': 0.01, 'd': 0.01, 'l': 0.97, 'r': 0.01},\n",
       " 2: {'u': 0.01, 'd': 0.01, 'l': 0.97, 'r': 0.01},\n",
       " 3: {'u': 0.01, 'd': 0.01, 'l': 0.97, 'r': 0.01},\n",
       " 4: {'u': 0.97, 'd': 0.01, 'l': 0.01, 'r': 0.01},\n",
       " 5: {'u': 0.97, 'd': 0.01, 'l': 0.01, 'r': 0.01},\n",
       " 6: {'u': 0.01, 'd': 0.01, 'l': 0.97, 'r': 0.01},\n",
       " 7: {'u': 0.01, 'd': 0.01, 'l': 0.97, 'r': 0.01},\n",
       " 8: {'u': 0.97, 'd': 0.01, 'l': 0.01, 'r': 0.01},\n",
       " 9: {'u': 0.01, 'd': 0.01, 'l': 0.97, 'r': 0.01},\n",
       " 10: {'u': 0.01, 'd': 0.01, 'l': 0.97, 'r': 0.01},\n",
       " 11: {'u': 0.97, 'd': 0.01, 'l': 0.01, 'r': 0.01},\n",
       " 12: {'u': 0.97, 'd': 0.01, 'l': 0.01, 'r': 0.01},\n",
       " 13: {'u': 0.01, 'd': 0.01, 'l': 0.97, 'r': 0.01},\n",
       " 14: {'u': 0.01, 'd': 0.01, 'l': 0.97, 'r': 0.01},\n",
       " 15: {'u': 0.01, 'd': 0.01, 'l': 0.97, 'r': 0.01}}"
      ]
     },
     "execution_count": 19,
     "metadata": {},
     "output_type": "execute_result"
    }
   ],
   "source": [
    "Q_policy = update_policy(initial_policy, Q, 0.01)    \n",
    "Q_policy"
   ]
  },
  {
   "cell_type": "markdown",
   "metadata": {},
   "source": [
    "> **Exercise 9-1-5:** The question is now, how much of an improvement does this policy represent? To find out, execute the code to compute the state values for the improved policy. "
   ]
  },
  {
   "cell_type": "code",
   "execution_count": 20,
   "metadata": {},
   "outputs": [
    {
     "name": "stdout",
     "output_type": "stream",
     "text": [
      "146.1795268475019\n",
      "[[0.         9.95927455 9.89345207 9.69288937]\n",
      " [9.99999264 9.89045399 9.78083687 9.67544986]\n",
      " [9.88565516 9.7802212  9.67710331 9.56390884]\n",
      " [9.77674359 9.6277438  9.54279953 9.43300205]]\n"
     ]
    }
   ],
   "source": [
    "state_values = td_0_state_values(Q_policy, 20000).reshape((4,4))     \n",
    "print(np.sum(state_values))\n",
    "print(state_values)"
   ]
  },
  {
   "cell_type": "markdown",
   "metadata": {},
   "source": [
    "> Examine the state values and provide short answers to these questions:    \n",
    "> 1. Do these state values represent an improvement over the initial policy and why?   \n",
    "> 2. Notice that the Q-Learning algorithm was run for half as many iterations as the SARSA algorithm. How does the computational performance of these two algorithms appear to compare for this example?     "
   ]
  },
  {
   "cell_type": "markdown",
   "metadata": {},
   "source": [
    "> **Answers:**   \n",
    "> 1.      \n",
    "> 2.     "
   ]
  },
  {
   "cell_type": "markdown",
   "metadata": {},
   "source": [
    "### Double Q-Learning\n",
    "\n",
    "The Q-learning algorithm just presented has a significant **bias**. To understand why this might be consider the following thought experiment. In most cases the sampled action values are inaccurate. Some action values will have a positive error and some will have a negative error. In the error is on the order of the values themselves, the $max_a$ operator has a reasonable chance of selecting an action value that is the largest because of this error. However, the $max_a$ operator will never select an action with a low value simply because of the errors. The net result is a bias toward action values with the largest positive error. \n",
    "\n",
    "What can be done to correct this situation? One relatively simple and effective algorithm is known as **double Q-learning**. Double Q-learning maintains two tables of action values. The values from one table are used to perform the bootstrap updates of the other table and vice versa. This approach averages out the bias. For two tables, $Q_1$ and $Q_2$ we can express double Q-learning as follows:\n",
    "\n",
    "$$Q_1(S_t,A_t) = Q_1(S_t,A_t) + \\alpha \\big[ R_{t+1} + \\gamma Q_2 \\big( S_{t+1},argmax_a Q_1(S_{t+1} , a) \\big) - Q_1(S_t,A_t) \\big] \\\\\n",
    "Q_2(S_t,A_t) = Q_2(S_t,A_t) + \\alpha \\big[ R_{t+1} + \\gamma Q_1 \\big( S_{t+1},argmax_a Q_2(S_{t+1} , a) \\big) - Q_2(S_t,A_t) \\big]$$  \n",
    "\n",
    "With a 0.5 probability one or the other of these expressions is used for the TD update at each time step. While double Q-learning requires twice as much memory, to maintain the two tables, the computational complexity is the same when compared to Q-learning. \n",
    "\n",
    "> **Note:** Another **unbiased** one step off policy TD algorithm is known as **expected SARSA**. See Section 6.6 of Sutton and Barto, second edition, for details.   "
   ]
  },
  {
   "cell_type": "markdown",
   "metadata": {},
   "source": [
    "### Example of Double Q-Learning\n",
    "\n",
    "The code in the cell below implements the double Q-learning algorithm. The steps are essentially the same as the foregoing code, except for the updates of the two Q tables. Additional details on this algorithm can be seen by reading the code comments.  \n",
    "\n",
    "Execute this code and examine the results."
   ]
  },
  {
   "cell_type": "code",
   "execution_count": 21,
   "metadata": {},
   "outputs": [],
   "source": [
    "def update_double_Q(q1, q2, current_state, a_index, reward, alpha, gamma):\n",
    "    \"\"\"Function to update the actions values in the Q matrix\"\"\"\n",
    "    ## Get s_prime given s and a\n",
    "    s_prime, reward_prime, terminal = simulate_environment_Q(current_state, action_lookup(a_index))\n",
    "    a_prime_index = nr.choice(np.where(reward_prime == max(reward_prime))[0], size = 1)[0]\n",
    "    ## Update the action values \n",
    "    q1[current_state,a_index] = q1[current_state,a_index] + alpha * (reward + gamma * (q2[s_prime,a_prime_index] - q1[current_state,a_index]))\n",
    "    return q1, s_prime, reward_prime, terminal, a_prime_index\n",
    "\n",
    "def double_Q_learning_0(policy, episodes, alpha = 0.02, gamma = 0.9):\n",
    "    \"\"\"\n",
    "    Function to perform Q-learning(0) control policy improvement.\n",
    "    \"\"\"\n",
    "    ## Initialize the state list and action values\n",
    "    states = list(policy.keys())\n",
    "    n_states = len(states)\n",
    "    n_actions = len(policy[0].keys())\n",
    "    \n",
    "    ## Initialize both Q matricies\n",
    "    Q1 = np.zeros((n_states,n_actions))\n",
    "    Q2 = np.zeros((n_states,n_actions))\n",
    "    \n",
    "    for _ in range(episodes): # Loop over the episodes\n",
    "        terminal = False\n",
    "        ## Find the inital state, action index and reward\n",
    "        current_state, a_index, reward = start_Q_episode(n_states,n_actions)\n",
    "        \n",
    "        while(not terminal): # Episode ends where get to terminal state   \n",
    "            ## Update the action values in Q1 or Q2 based on random choice\n",
    "            if(nr.uniform() <= 0.5):\n",
    "                Q1, s_prime, reward_prime, terminal, a_prime_index = update_double_Q(Q1, Q2, current_state, a_index, reward, alpha, gamma)\n",
    "            else:\n",
    "                Q2, s_prime, reward_prime, terminal, a_prime_index = update_double_Q(Q2, Q1, current_state, a_index, reward, alpha, gamma)\n",
    "            ## Set action, reward and state for next iteration\n",
    "            a_index = a_prime_index\n",
    "            current_state = s_prime\n",
    "            reward = reward_prime[a_prime_index]\n",
    "    return(Q1)"
   ]
  },
  {
   "cell_type": "code",
   "execution_count": 22,
   "metadata": {},
   "outputs": [
    {
     "name": "stdout",
     "output_type": "stream",
     "text": [
      "           up      down       left     right\n",
      "0    0.000000  0.000000   0.000000  0.000000\n",
      "1    7.617250  5.737812  11.111111  5.686416\n",
      "2    4.909671  8.375011  11.664264  8.213636\n",
      "3    4.655896  7.662482   9.350080  3.618272\n",
      "4   11.111111  5.973130   6.782583  6.868366\n",
      "5   10.951020  7.969181  10.886090  8.187642\n",
      "6    9.011445  7.373848   9.039638  7.477404\n",
      "7    8.359442  7.093984   8.363328  3.189584\n",
      "8   11.765027  8.088381   5.087609  8.040366\n",
      "9    9.093635  7.554928   9.044312  7.393040\n",
      "10   8.266247  7.047962   8.068637  7.099992\n",
      "11   7.635391  6.849040   7.438931  3.105936\n",
      "12   9.324261  3.464389   4.352764  7.608320\n",
      "13   8.100958  3.541610   8.307107  7.069316\n",
      "14   7.460937  2.749383   7.559327  6.886302\n",
      "15   7.131498  2.413401   7.136254  3.044643\n"
     ]
    }
   ],
   "source": [
    "Q = double_Q_learning_0(initial_policy, 10000)\n",
    "print_Q(Q)"
   ]
  },
  {
   "cell_type": "markdown",
   "metadata": {},
   "source": [
    "With the Q values computed, execute the code in the cell below to find an improved policy.  "
   ]
  },
  {
   "cell_type": "code",
   "execution_count": 23,
   "metadata": {},
   "outputs": [
    {
     "data": {
      "text/plain": [
       "{0: {'u': 0.25, 'd': 0.25, 'l': 0.25, 'r': 0.25},\n",
       " 1: {'u': 0.01, 'd': 0.01, 'l': 0.97, 'r': 0.01},\n",
       " 2: {'u': 0.01, 'd': 0.01, 'l': 0.97, 'r': 0.01},\n",
       " 3: {'u': 0.01, 'd': 0.01, 'l': 0.97, 'r': 0.01},\n",
       " 4: {'u': 0.97, 'd': 0.01, 'l': 0.01, 'r': 0.01},\n",
       " 5: {'u': 0.97, 'd': 0.01, 'l': 0.01, 'r': 0.01},\n",
       " 6: {'u': 0.01, 'd': 0.01, 'l': 0.97, 'r': 0.01},\n",
       " 7: {'u': 0.01, 'd': 0.01, 'l': 0.97, 'r': 0.01},\n",
       " 8: {'u': 0.97, 'd': 0.01, 'l': 0.01, 'r': 0.01},\n",
       " 9: {'u': 0.97, 'd': 0.01, 'l': 0.01, 'r': 0.01},\n",
       " 10: {'u': 0.97, 'd': 0.01, 'l': 0.01, 'r': 0.01},\n",
       " 11: {'u': 0.97, 'd': 0.01, 'l': 0.01, 'r': 0.01},\n",
       " 12: {'u': 0.97, 'd': 0.01, 'l': 0.01, 'r': 0.01},\n",
       " 13: {'u': 0.01, 'd': 0.01, 'l': 0.97, 'r': 0.01},\n",
       " 14: {'u': 0.01, 'd': 0.01, 'l': 0.97, 'r': 0.01},\n",
       " 15: {'u': 0.01, 'd': 0.01, 'l': 0.97, 'r': 0.01}}"
      ]
     },
     "execution_count": 23,
     "metadata": {},
     "output_type": "execute_result"
    }
   ],
   "source": [
    "double_Q_policy = update_policy(initial_policy, Q, 0.01)    \n",
    "double_Q_policy"
   ]
  },
  {
   "cell_type": "markdown",
   "metadata": {},
   "source": [
    "> **Exercise 9-1-5:** The question is now, how much of an improvement does this policy represent and how does it compare to the other algorithms? To find out, execute the code to compute the state values for the improved policy.    "
   ]
  },
  {
   "cell_type": "code",
   "execution_count": 24,
   "metadata": {},
   "outputs": [
    {
     "name": "stdout",
     "output_type": "stream",
     "text": [
      "146.0978359120244\n",
      "[[0.         9.98676733 9.87531175 9.74536692]\n",
      " [9.98074262 9.87317865 9.77932176 9.66786861]\n",
      " [9.87779349 9.77283646 9.66623769 9.54463052]\n",
      " [9.77895498 9.62015441 9.53167249 9.39699822]]\n"
     ]
    }
   ],
   "source": [
    "state_values = td_0_state_values(Q_policy, 20000).reshape((4,4))     \n",
    "print(np.sum(state_values))\n",
    "print(state_values)  "
   ]
  },
  {
   "cell_type": "markdown",
   "metadata": {},
   "source": [
    "> Examine these results. Keep in mind that the point of double Q-Learning is reduced bias, which will be minimal with a small number of possible state-action values. What evidence can you see for improvement when these results are compared to the original Q-Learning results?      "
   ]
  },
  {
   "cell_type": "markdown",
   "metadata": {},
   "source": [
    "> **Answer:**     "
   ]
  },
  {
   "cell_type": "markdown",
   "metadata": {},
   "source": [
    "#### Copyright 2018, 2019, 2022, Stephen F Elston. All rights reserved. "
   ]
  }
 ],
 "metadata": {
  "kernelspec": {
   "display_name": "Python 3",
   "language": "python",
   "name": "python3"
  },
  "language_info": {
   "codemirror_mode": {
    "name": "ipython",
    "version": 3
   },
   "file_extension": ".py",
   "mimetype": "text/x-python",
   "name": "python",
   "nbconvert_exporter": "python",
   "pygments_lexer": "ipython3",
   "version": "3.7.3"
  }
 },
 "nbformat": 4,
 "nbformat_minor": 2
}
